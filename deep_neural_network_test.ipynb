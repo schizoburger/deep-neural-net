{
 "cells": [
  {
   "cell_type": "code",
   "execution_count": 1,
   "metadata": {},
   "outputs": [
    {
     "name": "stdout",
     "output_type": "stream",
     "text": [
      "Successfully downloaded train-images-idx3-ubyte.gz 9912422 bytes.\n",
      "Extracting MNIST_data/train-images-idx3-ubyte.gz\n",
      "Successfully downloaded train-labels-idx1-ubyte.gz 28881 bytes.\n",
      "Extracting MNIST_data/train-labels-idx1-ubyte.gz\n",
      "Successfully downloaded t10k-images-idx3-ubyte.gz 1648877 bytes.\n",
      "Extracting MNIST_data/t10k-images-idx3-ubyte.gz\n",
      "Successfully downloaded t10k-labels-idx1-ubyte.gz 4542 bytes.\n",
      "Extracting MNIST_data/t10k-labels-idx1-ubyte.gz\n"
     ]
    }
   ],
   "source": [
    "from tensorflow.examples.tutorials.mnist import input_data\n",
    "mnist = input_data.read_data_sets(\"MNIST_data/\", one_hot=True)"
   ]
  },
  {
   "cell_type": "code",
   "execution_count": 16,
   "metadata": {
    "collapsed": true
   },
   "outputs": [],
   "source": [
    "x_train = mnist.train.images[:1000]\n",
    "y_train = mnist.train.labels[:1000]\n",
    "x_cv = mnist.validation.images\n",
    "y_cv = mnist.validation.labels\n",
    "x_test = mnist.test.images\n",
    "y_test = mnist.test.labels"
   ]
  },
  {
   "cell_type": "code",
   "execution_count": 23,
   "metadata": {
    "collapsed": true
   },
   "outputs": [],
   "source": [
    "%run \"deep_neural_network.ipynb\""
   ]
  },
  {
   "cell_type": "code",
   "execution_count": 36,
   "metadata": {
    "collapsed": true
   },
   "outputs": [],
   "source": [
    "NN = Neural_Network([x_train.shape[1], 30, 30, 10])"
   ]
  },
  {
   "cell_type": "markdown",
   "metadata": {
    "collapsed": true
   },
   "source": [
    "NN.apply_l2_regularization(10)\n",
    "NN.apply_dropout(0.25)"
   ]
  },
  {
   "cell_type": "code",
   "execution_count": 37,
   "metadata": {},
   "outputs": [
    {
     "name": "stdout",
     "output_type": "stream",
     "text": [
      "Accuracy on CV with stochastic gradient descent:  0.705\n",
      "Accuracy on CV with stochastic gradient descent:  0.7738\n",
      "Accuracy on CV with stochastic gradient descent:  0.822\n",
      "Accuracy on CV with stochastic gradient descent:  0.809\n",
      "Accuracy on CV with stochastic gradient descent:  0.8508\n",
      "\n",
      "\n",
      "--- 3.4852800369262695 seconds ---\n",
      "Accuracy on CV with stochastic gradient descent:  0.8508\n"
     ]
    }
   ],
   "source": [
    "start_time = time.time()\n",
    "for i in range(5):\n",
    "    NN.learn_using_stochastic_gradient_descent(0.1, x_train,\\\n",
    "            y_train, 10)\n",
    "    print('Accuracy on CV with stochastic gradient descent: ',\\\n",
    "      NN.accuracy(NN.forward(x_cv),y_cv))\n",
    "\n",
    "print(\"\\n\\n--- %s seconds ---\" % (time.time() - start_time))\n",
    "NN.test_time=True\n",
    "print('Accuracy on CV with stochastic gradient descent: ',\\\n",
    "      NN.accuracy(NN.forward(x_cv),y_cv))"
   ]
  },
  {
   "cell_type": "code",
   "execution_count": null,
   "metadata": {
    "collapsed": true
   },
   "outputs": [],
   "source": []
  }
 ],
 "metadata": {
  "kernelspec": {
   "display_name": "Python 3",
   "language": "python",
   "name": "python3"
  },
  "language_info": {
   "codemirror_mode": {
    "name": "ipython",
    "version": 3
   },
   "file_extension": ".py",
   "mimetype": "text/x-python",
   "name": "python",
   "nbconvert_exporter": "python",
   "pygments_lexer": "ipython3",
   "version": "3.6.2"
  }
 },
 "nbformat": 4,
 "nbformat_minor": 2
}
